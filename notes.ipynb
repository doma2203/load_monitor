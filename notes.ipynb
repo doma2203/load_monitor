{
 "cells": [
  {
   "cell_type": "code",
   "execution_count": null,
   "metadata": {
    "collapsed": true
   },
   "outputs": [],
   "source": [
    "#MRHP - Most Resource-Hungry Processes\n",
    "\n",
    "logging.basicConfig(format=\"%(levelname)s|%(asctime)s|%(message)s\", datefmt=\"%d/%m/%Y %H:%M:%S\",filename=\"log/first.log\",level=logging.DEBUG)\n",
    "logging.warning(\"Your computer is overheating!\")\n",
    "logging.info(\"Temp:72C\")\n",
    "logging.debug(\"Total|CPU:85%;RAM:100%;SWAP:5.5GB/7.85GB;NOTE:Lorem ipsum dolor sit amet\")\n",
    "logging.debug(\"MRHP|PIDs:2420,1313,2424,2425,242;CPU:21%,22%,34%,10%,2%;RAM:45%,10%,15%,10%,20%\")"
   ]
  },
  {
   "cell_type": "code",
   "execution_count": null,
   "metadata": {},
   "outputs": [],
   "source": [
    ""
   ]
  }
 ],
 "metadata": {
  "kernelspec": {
   "display_name": "Python 2",
   "language": "python",
   "name": "python2"
  },
  "language_info": {
   "codemirror_mode": {
    "name": "ipython",
    "version": 2.0
   },
   "file_extension": ".py",
   "mimetype": "text/x-python",
   "name": "python",
   "nbconvert_exporter": "python",
   "pygments_lexer": "ipython2",
   "version": "2.7.6"
  }
 },
 "nbformat": 4,
 "nbformat_minor": 0
}